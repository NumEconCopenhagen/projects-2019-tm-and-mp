{
 "cells": [
  {
   "cell_type": "code",
   "execution_count": null,
   "metadata": {},
   "outputs": [],
   "source": [
    "import numpy as np\n",
    "import matplotlib.pyplot as plt\n",
    "import pandas as pd\n",
    "import statsmodels.api as sm\n",
    "\n",
    "# Import CSV file with data from nordpoolgroup.com\n",
    "df = pd.read_csv('DA_prices.csv', sep=';', decimal=',', thousands='.')\n",
    "print(df)\n",
    "\n",
    "df = df.rename(columns = {'WP Penetration (MWh)':'WP Penetration'})\n",
    "df.loc[:, 'WP Penetration'] *= 100\n",
    "print(df)\n",
    "\n",
    "# Drop all rows and columns with only NaN values\n",
    "df = df.dropna(axis=1, how='all')\n",
    "df = df.dropna(axis=0, how='all')\n",
    "print(df)\n",
    "\n",
    "# OLS regression of WP Penetration on Day-Ahead price\n",
    "regression = sm.OLS(df['Day-Ahead price (DKK)'], sm.add_constant(df['WP Penetration'])).fit()\n",
    "regression.summary()\n",
    "parameters = np.array(regression.params)\n",
    "print(type(parameters))\n",
    "\n",
    "# Calculating trendline\n",
    "trend = pd.DataFrame({'trend':parameters[0] + parameters[1]*df['WP Penetration']})\n",
    "trend = trend.round(2)\n",
    "print(trend)\n",
    "\n",
    "df = pd.concat([df, trend], axis=1)\n",
    "print(df)\n",
    "\n",
    "# Scatter plot and trendline from OLS regression\n",
    "fig = plt.figure(dpi=100)\n",
    "ax = fig.add_subplot(1,1,1)\n",
    "ax.scatter(df['WP Penetration'], df['Day-Ahead price (DKK)'])\n",
    "ax.plot(df['WP Penetration'], df['trend'], lw=2, c='black')\n",
    "ax.set_xlabel('WP Penetration (%)')\n",
    "ax.set_ylabel('Day-Ahead price (DKK)')\n",
    "plt.show(ax)\n",
    "\n",
    "# Creating a dummy variable for the winter, months and hour\n",
    "df['month'] = df['HourDK'].str.slice(3,5)\n",
    "df['month'] = pd.to_numeric(df['month'], downcast='integer')\n",
    "winter = pd.Series([1, 2, 12])\n",
    "df['winter'] = df['month'].isin(winter).astype(np.int8)\n",
    "df['hour'] = df['HourDK'].str.slice(9,11)\n",
    "df['hour'] = pd.to_numeric(df['hour'], downcast='integer')\n",
    "\n",
    "# Create table with means for each variable for each month\n",
    "table_group = df.groupby(['month'])['WP Prognosis (MWh)', 'Cons. Prognosis (MWh)', 'WP Penetration', 'Day-Ahead price (DKK)'].mean()\n",
    "table_group.round(2)\n",
    "table_group.to_csv('table_group.csv', sep=';', decimal=',')\n",
    "\n",
    "p2j DataProject.py"
   ]
  }
 ],
 "metadata": {
  "kernelspec": {
   "display_name": "Python 3",
   "language": "python",
   "name": "python3"
  },
  "language_info": {
   "codemirror_mode": {
    "name": "ipython",
    "version": 3
   },
   "file_extension": ".py",
   "mimetype": "text/x-python",
   "name": "python",
   "nbconvert_exporter": "python",
   "pygments_lexer": "ipython3",
   "version": "3.7.1"
  }
 },
 "nbformat": 4,
 "nbformat_minor": 2
}
