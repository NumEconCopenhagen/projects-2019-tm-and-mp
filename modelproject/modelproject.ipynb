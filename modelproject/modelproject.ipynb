{
 "cells": [
  {
   "cell_type": "code",
   "execution_count": 1,
   "metadata": {},
   "outputs": [
    {
     "name": "stdout",
     "output_type": "stream",
     "text": [
      "/Users/thomasmidjord/Desktop/KU Polit/8. semester/Introduction To Programming And Numerical Analysis/Workflow/projects-2019-tm-and-mp/modelproject/modelproject\n"
     ]
    }
   ],
   "source": [
    "#%% Change working directory from the workspace root to the ipynb file location. Turn this addition off with the DataScience.changeDirOnImportExport setting\n",
    "import os\n",
    "try:\n",
    "\tos.chdir(os.path.join(os.getcwd(), 'modelproject'))\n",
    "\tprint(os.getcwd())\n",
    "except:\n",
    "\tpass"
   ]
  },
  {
   "cell_type": "markdown",
   "metadata": {},
   "source": [
    "Imports and set magics:"
   ]
  },
  {
   "cell_type": "code",
   "execution_count": 4,
   "metadata": {},
   "outputs": [
    {
     "name": "stdout",
     "output_type": "stream",
     "text": [
      "The autoreload extension is already loaded. To reload it, use:\n",
      "  %reload_ext autoreload\n"
     ]
    }
   ],
   "source": [
    "import numpy as np\n",
    "import matplotlib.pyplot as plt\n",
    "import ipywidgets as widgets\n",
    "from scipy import linalg\n",
    "from scipy import optimize\n",
    "import sympy as sm\n",
    "\n",
    "# To print nicely:\n",
    "sm.init_printing(use_unicode=True)\n",
    "\n",
    "# autoreload modules when code is run\n",
    "get_ipython().run_line_magic('load_ext', 'autoreload')\n",
    "get_ipython().run_line_magic('autoreload', '2')"
   ]
  },
  {
   "cell_type": "markdown",
   "metadata": {},
   "source": [
    "# The basic Solow model"
   ]
  },
  {
   "cell_type": "markdown",
   "metadata": {},
   "source": [
    "The basic Solow model is as follows:"
   ]
  },
  {
   "cell_type": "markdown",
   "metadata": {},
   "source": [
    "$$ Y_t = AK_t^{\\alpha}L_t^{1-\\alpha} $$\n",
    "\n",
    "$$ r_t = \\alpha A \\left(\\frac{K_t}{L_t}\\right)^{\\alpha-1} $$\n",
    "\n",
    "$$ w_t = (1-\\alpha) A \\left(\\frac{K_t}{L_t}\\right)^{\\alpha-1} $$\n",
    " \n",
    "$$ S_t = sY_t $$\n",
    "\n",
    "$$ K_{t+1} - K_t = S_t -\\delta K_t $$\n",
    "\n",
    "$$ L_{t+1} = (1-n)L_t $$"
   ]
  },
  {
   "cell_type": "markdown",
   "metadata": {},
   "source": [
    "We also define the following equations:\n",
    "\n",
    "$$ y_t = \\frac{Y_t}{L_t} = Ak_t^{\\alpha} $$\n",
    "\n",
    "$$ k_t = \\frac{K_t}{L_t} $$"
   ]
  },
  {
   "cell_type": "markdown",
   "metadata": {},
   "source": [
    "## Defining symbols"
   ]
  },
  {
   "cell_type": "markdown",
   "metadata": {},
   "source": [
    "First we define the necessary variables so we can use sympy:"
   ]
  },
  {
   "cell_type": "code",
   "execution_count": 21,
   "metadata": {},
   "outputs": [],
   "source": [
    "Y = sm.symbols(\"Y_t\")\n",
    "y = sm.symbols(\"y_t\")\n",
    "K = sm.symbols(\"K_t\")\n",
    "k = sm.symbols(\"k_t\")\n",
    "r = sm.symbols(\"r_t\")\n",
    "w = sm.symbols(\"w_t\")\n",
    "s = sm.symbols(\"s\")\n",
    "n = sm.symbols(\"n\")\n",
    "g = sm.symbols(\"g\")\n",
    "A = sm.symbols(\"A\")\n",
    "L = sm.symbols(\"L_t\")\n",
    "alpha = sm.symbols(\"alpha\")\n",
    "delta = sm.symbols(\"delta\")\n",
    "kstar = sm.symbols(\"k_t^*\")\n",
    "ystar = sm.symbols(\"y^*\")"
   ]
  },
  {
   "cell_type": "markdown",
   "metadata": {},
   "source": [
    "## Solving for steady state"
   ]
  },
  {
   "cell_type": "markdown",
   "metadata": {},
   "source": [
    "We find the steady state by solving the equation $k_{t+1}-k_t = \\frac{1}{1+n} (sAk_t^{\\alpha} -(n+\\delta)k_t)$ for the constant solution where $k_{t+1} = k_t = k^*$. This gives us the equation $sAk^{\\alpha} - (n-\\delta)k = 0$ to solve."
   ]
  },
  {
   "cell_type": "code",
   "execution_count": 22,
   "metadata": {},
   "outputs": [
    {
     "data": {
      "image/png": "[encoded data removed]",
      "text/latex": [
       "$$k^{*}_{t} = \\left(\\frac{- \\delta + n}{A s}\\right)^{\\frac{1}{\\alpha - 1}}$$"
      ],
      "text/plain": [
       "                   1  \n",
       "                 ─────\n",
       "                 α - 1\n",
       "         ⎛-δ + n⎞     \n",
       "k_t__* = ⎜──────⎟     \n",
       "         ⎝ A⋅s  ⎠     "
      ]
     },
     "execution_count": 22,
     "metadata": {},
     "output_type": "execute_result"
    }
   ],
   "source": [
    "ksteady = sm.solve(s*A*k**alpha-(n-delta)*k, k)[0]\n",
    "sm.Eq(kstar , ksteady)"
   ]
  },
  {
   "cell_type": "markdown",
   "metadata": {},
   "source": [
    "This helps us solving for $y^*$:"
   ]
  },
  {
   "cell_type": "code",
   "execution_count": 23,
   "metadata": {},
   "outputs": [
    {
     "data": {
      "image/png": "[encoded data removed]",
      "text/latex": [
       "$$y^{*} = A \\left(\\left(\\frac{- \\delta + n}{A s}\\right)^{\\frac{1}{\\alpha - 1}}\\right)^{\\alpha}$$"
      ],
      "text/plain": [
       "                        α\n",
       "         ⎛          1  ⎞ \n",
       "         ⎜        ─────⎟ \n",
       "         ⎜        α - 1⎟ \n",
       "         ⎜⎛-δ + n⎞     ⎟ \n",
       "y__* = A⋅⎜⎜──────⎟     ⎟ \n",
       "         ⎝⎝ A⋅s  ⎠     ⎠ "
      ]
     },
     "execution_count": 23,
     "metadata": {},
     "output_type": "execute_result"
    }
   ],
   "source": [
    "eq1 = sm.simplify(A*ksteady**alpha)\n",
    "sm.Eq(ystar, eq1)"
   ]
  },
  {
   "cell_type": "markdown",
   "metadata": {},
   "source": [
    "## Simulating the basic Solow model"
   ]
  },
  {
   "cell_type": "code",
   "execution_count": 24,
   "metadata": {},
   "outputs": [],
   "source": [
    "def simulate_basic(k,alpha,delta,s,n,A,T):\n",
    "    \"\"\"\n",
    "    Args:\n",
    "    k (int): initial value for physical capital per worker\n",
    "    alpha (float): return on physical capital\n",
    "    delta (float): depreciation rate\n",
    "    s (float): investments\n",
    "    n (float): increase in labour\n",
    "    A (int): totalfactorproductivity\n",
    "    T (int): periods to simulate through\n",
    "    \n",
    "    Returns:\n",
    "    A plot showing how capital per worker accumulates over time\"\"\"\n",
    "    \n",
    "    #First we make a list for our future values to be in\n",
    "    k_path = [k]\n",
    "    \n",
    "    #Then we make which will contain the values for the 45-degree-line\n",
    "    Degreeline = [0]\n",
    "    \n",
    "    #We generate the 45-degree-line for the basic Solow model\n",
    "    for t in range(1,T):\n",
    "        line = (n + delta)*t\n",
    "        Degreeline.append(line)\n",
    "        \n",
    "    #We generate the Solow movement\n",
    "    for t in range(1,T):\n",
    "        k_plus = s*A*t**alpha\n",
    "        k_path.append(k_plus)\n",
    "    \n",
    "    #Plotting the stuff\n",
    "    plt.figure(figsize=(5,5))\n",
    "    plt.plot(k_path[:T], label='$sAk_t^{\\u03B1}$')\n",
    "    plt.plot(Degreeline[:T], label = '$(n+\\delta)k_t$')\n",
    "    plt.xlim(0,T)\n",
    "    plt.ylim(0,Degreeline[-1])\n",
    "    plt.xlabel('$k_t$')\n",
    "    plt.grid(True)\n",
    "    plt.legend()\n",
    "    \n",
    "    return plt.show()"
   ]
  },
  {
   "cell_type": "markdown",
   "metadata": {},
   "source": [
    "Example on a simulation with reasonable values:"
   ]
  },
  {
   "cell_type": "code",
   "execution_count": 25,
   "metadata": {},
   "outputs": [
    {
     "data": {
      "image/png": "[encoded data removed]",
      "text/plain": [
       "<Figure size 360x360 with 1 Axes>"
      ]
     },
     "metadata": {
      "needs_background": "light"
     },
     "output_type": "display_data"
    }
   ],
   "source": [
    "simulate_basic(0,1/3,0.01,0.4,0.01,1,200)"
   ]
  },
  {
   "cell_type": "markdown",
   "metadata": {},
   "source": [
    "Below, you can try changing the parametres yourself to see how they influence the steady state."
   ]
  },
  {
   "cell_type": "code",
   "execution_count": 26,
   "metadata": {},
   "outputs": [
    {
     "data": {
      "application/vnd.jupyter.widget-view+json": {
       "model_id": "9eb9a6726b044abf8a8fd4e81ee40df8",
       "version_major": 2,
       "version_minor": 0
      },
      "text/plain": [
       "interactive(children=(FloatSlider(value=0.3, description='$α$', max=0.9, step=0.05), FloatSlider(value=0.01, d…"
      ]
     },
     "metadata": {},
     "output_type": "display_data"
    },
    {
     "data": {
      "text/plain": [
       "<function __main__.simulate_basic(k, alpha, delta, s, n, A, T)>"
      ]
     },
     "execution_count": 26,
     "metadata": {},
     "output_type": "execute_result"
    }
   ],
   "source": [
    "widgets.interact(simulate_basic, \n",
    "                k = widgets.fixed(0), \n",
    "                alpha = widgets.FloatSlider(description = '$\\u03B1$' , min = 0 , max = 0.9 , step = 0.05 , value = 0.3),\n",
    "                delta = widgets.FloatSlider(description = '$\\u03B4$' , min = 0 , max = 0.1 , step = 0.01 , value = 0.01),\n",
    "                s = widgets.FloatSlider(description = 's' , min = 0.01 , max = 0.8 , step = 0.05 , value = 0.4),\n",
    "                n = widgets.FloatSlider(description ='$n$', min = 0.01 , max = 0.1 , step = 0.005, value = 0.01),\n",
    "                A = widgets.fixed(1),\n",
    "                T = widgets.IntSlider(description='$T$' , min = 1, max = 1000, step = 10, value = 100))"
   ]
  },
  {
   "cell_type": "markdown",
   "metadata": {},
   "source": [
    "# The Solow-model with land"
   ]
  },
  {
   "cell_type": "markdown",
   "metadata": {},
   "source": [
    "The Solow-model with land is as follows:\n",
    "\n",
    "$$ Y_t = K_t^{\\alpha}(A_tL_t)^{\\beta}X^{\\kappa}, \\quad \\alpha + \\beta + \\kappa = 1. $$\n",
    "\n",
    "$$ K_{t+1} = sY_t+(1-\\delta)K_t, \\quad K_0 \\text{ given}. $$\n",
    "\n",
    "$$ L_{t+1} = (1+n)L_t, \\quad n≥0, \\quad L_0 \\text{ given}. $$\n",
    "\n",
    "$$ A_{t+1} = (1+g)A_t, \\quad g≥0, \\quad A_0 \\text{ given}. $$\n",
    "\n",
    "$$ r_t = \\alpha \\left(\\frac{K_t}{A_t L_t}\\right)^{\\alpha-1} \\left(\\frac{X}{A_t L_t}\\right)^\\kappa $$\n",
    "\n",
    "$$ w_t = \\beta \\left(\\frac{K_t}{A_t L_t}\\right)^{\\alpha} \\left(\\frac{X}{A_t L_t}\\right)^\\kappa A_t $$\n",
    "\n",
    "$$ v_t = \\kappa \\left(\\frac{K_t}{A_t L_t}\\right)^{\\alpha} \\left(\\frac{X}{A_t L_t}\\right)^{\\kappa-1} $$\n",
    "\n",
    "* $K_t$ is capital\n",
    "* $L_t$ is labor (growing with a constant rate of $n$)\n",
    "* $A_t$ is technology (growing with a constant rate of $g$)\n",
    "* $X$ is land (constant)\n",
    "<br> <br>\n",
    "* $s$ is the savings rate (which is assumed to be constant)\n",
    "* $r_t$ is the return to capital\n",
    "* $w_t$ is the wage rate\n",
    "* $v_t$ is the return to land\n",
    "\n",
    "**Saving** is a constant fraction of GDP\n",
    "$$ S_t = sY_t,\\,s\\in(0,1) $$\n",
    "Defining the following variables:\n",
    "\n",
    "$$ \\text{Capital-output ratio:} \\quad z_t=\\frac{K_t}{Y_t} $$\n",
    "\n",
    "$$ \\text{Capital per worker:} \\quad k_t=\\frac{K_t}{L_t} $$\n",
    "\n",
    "$$ \\text{Land per worker:} \\quad x_t=\\frac{X_t}{L_t} $$\n",
    "\n",
    "$$ \\text{Output per worker:} \\quad y_t=\\frac{Y_t}{L_t} $$\n",
    "\n",
    "$$ y_t = k_t^\\alpha A_t^\\beta x_t^\\kappa $$"
   ]
  },
  {
   "cell_type": "markdown",
   "metadata": {},
   "source": [
    "# Steady state"
   ]
  },
  {
   "cell_type": "markdown",
   "metadata": {},
   "source": [
    "## Analytical solution"
   ]
  },
  {
   "cell_type": "markdown",
   "metadata": {},
   "source": [
    "First we define all necessary **symbols** so we can use sympy:"
   ]
  },
  {
   "cell_type": "code",
   "execution_count": 27,
   "metadata": {},
   "outputs": [],
   "source": [
    "z = sm.symbols('z_t')\n",
    "v = sm.symbols('v_t')\n",
    "beta = sm.symbols('beta')\n",
    "kappa = sm.symbols('kappa')\n",
    "zc = sm.symbols('z')\n",
    "zstar = sm.symbols('z^*')\n",
    "landpc = sm.symbols('x_t')"
   ]
  },
  {
   "cell_type": "markdown",
   "metadata": {},
   "source": [
    "We are working with the transition equation for the capital-output ratio (z)\n",
    "\n",
    "$$ z_{t+1} = \\left(\\frac{1}{(1+n)(1+g)}\\right)^\\beta [(s+(1-\\delta)z_t)]^{1-\\alpha} z_t^\\alpha $$\n",
    "\n",
    "Solving for z to find z*"
   ]
  },
  {
   "cell_type": "code",
   "execution_count": 29,
   "metadata": {},
   "outputs": [
    {
     "data": {
      "image/png": "[encoded data removed]",
      "text/latex": [
       "$$z^{*} = \\frac{s \\left(\\frac{1}{g n + g + n + 1.0}\\right)^{2 \\beta}}{\\delta \\left(\\frac{1}{g n + g + n + 1.0}\\right)^{2.0 \\beta} - \\left(\\frac{1}{g n + g + n + 1.0}\\right)^{2.0 \\beta} + 1.0}$$"
      ],
      "text/plain": [
       "                                              2⋅β                 \n",
       "                           ⎛        1        ⎞                    \n",
       "                         s⋅⎜─────────────────⎟                    \n",
       "                           ⎝g⋅n + g + n + 1.0⎠                    \n",
       "z__* = ───────────────────────────────────────────────────────────\n",
       "                            2.0⋅β                      2.0⋅β      \n",
       "         ⎛        1        ⎞        ⎛        1        ⎞           \n",
       "       δ⋅⎜─────────────────⎟      - ⎜─────────────────⎟      + 1.0\n",
       "         ⎝g⋅n + g + n + 1.0⎠        ⎝g⋅n + g + n + 1.0⎠           "
      ]
     },
     "execution_count": 29,
     "metadata": {},
     "output_type": "execute_result"
    }
   ],
   "source": [
    "# Choosing value for alpha in order to be able to use sympy.solve function\n",
    "alpha = 0.5\n",
    "\n",
    "# Calculating the the chose value for alpha\n",
    "z_eq = sm.Eq(zc, (1/((1+n)*(1+g)))**beta * (s+(1-delta)*zc)**(1-alpha)*zc**alpha)\n",
    "z_eq\n",
    "z_solve = sm.simplify(sm.solve(z_eq, zc)[1])\n",
    "zfinal = sm.Eq(zstar, z_solve)\n",
    "zfinal"
   ]
  },
  {
   "cell_type": "markdown",
   "metadata": {},
   "source": [
    "$z^*$ can also be reduced to the following for a given $\\alpha$ value\n",
    "\n",
    "$$ z^* = \\frac{s}{[(1+n)(1+g)]^{\\frac{\\beta}{1-\\alpha}}-(1-\\delta)} $$"
   ]
  },
  {
   "cell_type": "markdown",
   "metadata": {},
   "source": [
    "We are finding $y^*$ by using the formula for $y_t$ we defined earlier:\n",
    "\n",
    "$$ y_t = k_t^\\alpha A_t^\\beta x_t^\\kappa $$\n",
    "\n",
    "We devide by $y_t^\\alpha$ and find:\n",
    "\n",
    "$$ y_t^{1-\\alpha} = z_t^\\alpha A_t^\\beta x_t^\\kappa $$\n",
    "\n",
    "Isolating $y_t$ and inserting $z^*$ gives us $y_t^*$:\n",
    "\n",
    "$$ y_t^* = (z^*)^{\\frac{\\alpha}{\\beta+\\kappa}} A_t^{\\frac{\\beta}{\\beta+\\kappa}} x_t^{\\frac{\\kappa}{\\beta+\\kappa}} $$\n",
    "\n",
    "Using the growth rates of technology and labor we can rewrite this as:\n",
    "\n",
    "$$ y_t^* = (z^*)^{\\frac{\\alpha}{\\beta+\\kappa}} A_0^{\\frac{\\beta}{\\beta+\\kappa}} \\left(\\frac{X}{L_o}\\right)^{\\frac{\\kappa}{\\beta+\\kappa}} (1+g)^{\\frac{\\beta}{\\beta+\\kappa}t} (1+n)^{-\\frac{\\kappa}{\\beta+\\kappa}t} $$"
   ]
  },
  {
   "cell_type": "code",
   "execution_count": null,
   "metadata": {},
   "outputs": [],
   "source": []
  }
 ],
 "metadata": {
  "kernelspec": {
   "display_name": "Python 3",
   "language": "python",
   "name": "python3"
  },
  "language_info": {
   "codemirror_mode": {
    "name": "ipython",
    "version": 3
   },
   "file_extension": ".py",
   "mimetype": "text/x-python",
   "name": "python",
   "nbconvert_exporter": "python",
   "pygments_lexer": "ipython3",
   "version": "3.7.1"
  }
 },
 "nbformat": 4,
 "nbformat_minor": 2
}
