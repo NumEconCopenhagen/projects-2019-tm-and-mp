{
 "cells": [
  {
   "cell_type": "markdown",
   "metadata": {},
   "source": [
    "Imports and set magics:"
   ]
  },
  {
   "cell_type": "code",
   "execution_count": 1,
   "metadata": {},
   "outputs": [],
   "source": [
    "import numpy as np\n",
    "import matplotlib.pyplot as plt\n",
    "import ipywidgets as widgets\n",
    "from scipy import linalg\n",
    "from scipy import optimize\n",
    "import sympy as sm\n",
    "\n",
    "# To print nicely:\n",
    "sm.init_printing(use_unicode=True)\n",
    "\n",
    "# autoreload modules when code is run\n",
    "get_ipython().run_line_magic('load_ext', 'autoreload')\n",
    "get_ipython().run_line_magic('autoreload', '2')"
   ]
  },
  {
   "cell_type": "markdown",
   "metadata": {},
   "source": [
    "# The basic Solow model"
   ]
  },
  {
   "cell_type": "markdown",
   "metadata": {},
   "source": [
    "The basic Solow model is as follows:"
   ]
  },
  {
   "cell_type": "markdown",
   "metadata": {},
   "source": [
    "\\begin{align}\n",
    "Y_t = AK_t^{\\alpha}L_t^{1-\\alpha} \\quad \\quad (1) \\\\ \\\\\n",
    "S_t = sY_t \\quad \\quad (2) \\\\ \\\\\n",
    "K_{t+1} - K_t = S_t -\\delta K_t \\quad \\quad (3) \\\\ \\\\\n",
    "L_{t+1} = (1-n)L_t \\quad \\quad (4)\n",
    "\\end{align}"
   ]
  },
  {
   "cell_type": "markdown",
   "metadata": {},
   "source": [
    "We also define the following equations:\n",
    "\\begin{align}\n",
    "y_t = \\frac{Y_t}{L_t} = Ak_t^{\\alpha} \\quad \\quad (5) \\\\ \\\\\n",
    "k_t = \\frac{K_t}{L_t} \\quad \\quad (6)\n",
    "\\end{align}"
   ]
  },
  {
   "cell_type": "markdown",
   "metadata": {},
   "source": [
    "## Defining symbols"
   ]
  },
  {
   "cell_type": "markdown",
   "metadata": {},
   "source": [
    "First we define the necessary variables so we can use sympy:"
   ]
  },
  {
   "cell_type": "code",
   "execution_count": 2,
   "metadata": {},
   "outputs": [],
   "source": [
    "Y = sm.symbols(\"Y_t\")\n",
    "y = sm.symbols(\"y_t\")\n",
    "K = sm.symbols(\"K_t\")\n",
    "k = sm.symbols(\"k_t\")\n",
    "r = sm.symbols(\"r_t\")\n",
    "w = sm.symbols(\"w_t\")\n",
    "s = sm.symbols(\"s\")\n",
    "n = sm.symbols(\"n\")\n",
    "g = sm.symbols(\"g\")\n",
    "A = sm.symbols(\"A\")\n",
    "L = sm.symbols(\"L_t\")\n",
    "alpha = sm.symbols(\"alpha\")\n",
    "delta = sm.symbols(\"delta\")\n",
    "kstar = sm.symbols(\"k_t^*\")\n",
    "ystar = sm.symbols(\"y^*\")"
   ]
  },
  {
   "cell_type": "markdown",
   "metadata": {},
   "source": [
    "## Finding FOC:"
   ]
  },
  {
   "cell_type": "code",
   "execution_count": 3,
   "metadata": {},
   "outputs": [
    {
     "data": {
      "image/png": "[encoded data removed]",
      "text/latex": [
       "$$r_{t} = A K_{t}^{\\alpha - 1} L_{t}^{- \\alpha + 1} \\alpha$$"
      ],
      "text/plain": [
       "         α - 1   -α + 1  \n",
       "rₜ = A⋅Kₜ     ⋅Lₜ      ⋅α"
      ]
     },
     "execution_count": 3,
     "metadata": {},
     "output_type": "execute_result"
    }
   ],
   "source": [
    "r_foc = sm.simplify(sm.diff(A*K**alpha*L**(1-alpha),K))\n",
    "sm.Eq(r, r_foc)"
   ]
  },
  {
   "cell_type": "code",
   "execution_count": 4,
   "metadata": {},
   "outputs": [
    {
     "data": {
      "image/png": "[encoded data removed]",
      "text/latex": [
       "$$w_{t} = - A K_{t}^{\\alpha} L_{t}^{- \\alpha} \\left(\\alpha - 1\\right)$$"
      ],
      "text/plain": [
       "          α   -α        \n",
       "wₜ = -A⋅Kₜ ⋅Lₜ  ⋅(α - 1)"
      ]
     },
     "execution_count": 4,
     "metadata": {},
     "output_type": "execute_result"
    }
   ],
   "source": [
    "w_foc = sm.simplify(sm.diff(A*K**alpha*L**(1-alpha),L))\n",
    "sm.Eq(w, w_foc)"
   ]
  },
  {
   "cell_type": "markdown",
   "metadata": {},
   "source": [
    "## Solving for steady state"
   ]
  },
  {
   "cell_type": "markdown",
   "metadata": {},
   "source": [
    "We insert (1) in (2) and inserting this into (3). Then we divide by $L_t$ and solve the equation knowing that in steady state $k_{t+1} = k_t = k^*$. The equation we are solving can then be simplified to: $sAk^{\\alpha} - (n-\\delta)k = 0$"
   ]
  },
  {
   "cell_type": "code",
   "execution_count": 5,
   "metadata": {},
   "outputs": [
    {
     "data": {
      "image/png": "[encoded data removed]",
      "text/latex": [
       "$$k^{*}_{t} = \\left(\\frac{- \\delta + n}{A s}\\right)^{\\frac{1}{\\alpha - 1}}$$"
      ],
      "text/plain": [
       "                   1  \n",
       "                 ─────\n",
       "                 α - 1\n",
       "         ⎛-δ + n⎞     \n",
       "k_t__* = ⎜──────⎟     \n",
       "         ⎝ A⋅s  ⎠     "
      ]
     },
     "execution_count": 5,
     "metadata": {},
     "output_type": "execute_result"
    }
   ],
   "source": [
    "ksteady = sm.solve(s*A*k**alpha-(n-delta)*k, k)[0]\n",
    "sm.Eq(kstar , ksteady)"
   ]
  },
  {
   "cell_type": "markdown",
   "metadata": {},
   "source": [
    "Inserting this result into (5) gives us $y^*$:"
   ]
  },
  {
   "cell_type": "code",
   "execution_count": 6,
   "metadata": {},
   "outputs": [
    {
     "data": {
      "image/png": "[encoded data removed]",
      "text/latex": [
       "$$y^{*} = A \\left(\\left(\\frac{- \\delta + n}{A s}\\right)^{\\frac{1}{\\alpha - 1}}\\right)^{\\alpha}$$"
      ],
      "text/plain": [
       "                        α\n",
       "         ⎛          1  ⎞ \n",
       "         ⎜        ─────⎟ \n",
       "         ⎜        α - 1⎟ \n",
       "         ⎜⎛-δ + n⎞     ⎟ \n",
       "y__* = A⋅⎜⎜──────⎟     ⎟ \n",
       "         ⎝⎝ A⋅s  ⎠     ⎠ "
      ]
     },
     "execution_count": 6,
     "metadata": {},
     "output_type": "execute_result"
    }
   ],
   "source": [
    "y_star = sm.simplify(A*ksteady**alpha)\n",
    "sm.Eq(ystar, y_star)"
   ]
  },
  {
   "cell_type": "markdown",
   "metadata": {},
   "source": [
    "## Simulating the basic Solow model"
   ]
  },
  {
   "cell_type": "code",
   "execution_count": 7,
   "metadata": {},
   "outputs": [],
   "source": [
    "def simulate_basic(alpha,delta,s,n,A,T):\n",
    "    \"\"\"\n",
    "    Args:\n",
    "    alpha (float): Capital income share\n",
    "    delta (float): Capital depreciation rate\n",
    "    s (float): Savings rate\n",
    "    n (float): Labor force growth rate\n",
    "    A (float): Total factor productivity\n",
    "    T (int): Periods to simulate through\n",
    "    \n",
    "    Returns:\n",
    "    A plot showing how capital per worker accumulates over time\"\"\"\n",
    "    \n",
    "    #First we make a list for our future values of capital accumulation to be in\n",
    "    k_path = [0]\n",
    "    \n",
    "    #Then we make a list which will contain the values for the 45-degree-line\n",
    "    Degreeline = [0]\n",
    "    \n",
    "    #We generate the 45-degree-line represeting capital per worker depreciation\n",
    "    for t in range(1,T):\n",
    "        line = (n + delta)*t\n",
    "        Degreeline.append(line)\n",
    "        \n",
    "    #We generate the capital accumulation\n",
    "    for t in range(1,T):\n",
    "        k_plus = s*A*t**alpha\n",
    "        k_path.append(k_plus)\n",
    "    \n",
    "    #Plotting the two lines\n",
    "    plt.figure(figsize=(5,5))\n",
    "    plt.plot(k_path[:T], label='$sAk_t^{\\u03B1}$')\n",
    "    plt.plot(Degreeline[:T], label = '$(n+\\delta)k_t$')\n",
    "    plt.xlim(0,T)\n",
    "    plt.ylim(0,Degreeline[-1])\n",
    "    plt.xlabel('$k_t$')\n",
    "    plt.grid(True)\n",
    "    plt.legend()\n",
    "    \n",
    "    return plt.show()"
   ]
  },
  {
   "cell_type": "markdown",
   "metadata": {},
   "source": [
    "Example on a simulation with reasonable values:"
   ]
  },
  {
   "cell_type": "code",
   "execution_count": 8,
   "metadata": {},
   "outputs": [
    {
     "data": {
      "image/png": "[encoded data removed]",
      "text/plain": [
       "<Figure size 360x360 with 1 Axes>"
      ]
     },
     "metadata": {
      "needs_background": "light"
     },
     "output_type": "display_data"
    }
   ],
   "source": [
    "simulate_basic(1/3,0.05,0.3,0.01,1,50)"
   ]
  },
  {
   "cell_type": "markdown",
   "metadata": {},
   "source": [
    "Below, you can try changing the parametres yourself by moving the sliders to see how different parameter values changes the steady state."
   ]
  },
  {
   "cell_type": "code",
   "execution_count": 10,
   "metadata": {},
   "outputs": [
    {
     "data": {
      "application/vnd.jupyter.widget-view+json": {
       "model_id": "c44691353d7f487fa271caa9df7d3260",
       "version_major": 2,
       "version_minor": 0
      },
      "text/plain": [
       "interactive(children=(FloatSlider(value=0.3, description='$α$', max=0.9, step=0.05), FloatSlider(value=0.05, d…"
      ]
     },
     "metadata": {},
     "output_type": "display_data"
    },
    {
     "data": {
      "text/plain": [
       "<function __main__.simulate_basic(alpha, delta, s, n, A, T)>"
      ]
     },
     "execution_count": 10,
     "metadata": {},
     "output_type": "execute_result"
    }
   ],
   "source": [
    "widgets.interact(simulate_basic,\n",
    "                alpha = widgets.FloatSlider(description = '$\\u03B1$' , min = 0 , max = 0.9 , step = 0.05 , value = 0.3),\n",
    "                delta = widgets.FloatSlider(description = '$\\u03B4$' , min = 0 , max = 0.1 , step = 0.01 , value = 0.05),\n",
    "                s = widgets.FloatSlider(description = 's' , min = 0 , max = 0.8 , step = 0.05 , value = 0.3),\n",
    "                n = widgets.FloatSlider(description ='$n$', min = 0 , max = 0.1 , step = 0.005, value = 0.01),\n",
    "                A = widgets.fixed(1),\n",
    "                T = widgets.IntSlider(description='$T$' , min = 0, max = 200, step = 10, value = 50))"
   ]
  },
  {
   "cell_type": "markdown",
   "metadata": {},
   "source": [
    "# The Solow-model with land"
   ]
  },
  {
   "cell_type": "markdown",
   "metadata": {},
   "source": [
    "The Solow-model with land is as follows:\n",
    "\\begin{align}\n",
    "Y_t = K_t^{\\alpha}(A_tL_t)^{\\beta}X^{\\kappa}, \\quad \\alpha + \\beta + \\kappa = 1. \\quad \\quad (7) \\\\ \\\\\n",
    "K_{t+1} = sY_t+(1-\\delta)K_t, \\quad K_0 \\text{ given}. \\quad \\quad (8) \\\\ \\\\\n",
    "L_{t+1} = (1+n)L_t, \\quad n≥0, \\quad L_0 \\text{ given}. \\quad \\quad (9) \\\\ \\\\\n",
    "A_{t+1} = (1+g)A_t, \\quad g≥0, \\quad A_0 \\text{ given}. \\quad \\quad (10)\n",
    "\\end{align}\n",
    "* $K_t$ is capital\n",
    "* $L_t$ is labor (growing with a constant rate of $n$)\n",
    "* $A_t$ is technology (growing with a constant rate of $g$)\n",
    "* $X$ is land (constant)\n",
    "<br> <br>\n",
    "* $s$ is the savings rate (which is assumed to be constant)\n",
    "\n",
    "**Saving** is a constant fraction of GDP\n",
    "$$ S_t = sY_t,\\,s\\in(0,1) $$\n",
    "Defining the following variables:\n",
    "\n",
    "$$ \\text{Capital-output ratio:} \\quad z_t=\\frac{K_t}{Y_t} $$\n",
    "\n",
    "$$ \\text{Capital per worker:} \\quad k_t=\\frac{K_t}{L_t} $$\n",
    "\n",
    "$$ \\text{Land per worker:} \\quad x_t=\\frac{X_t}{L_t} $$\n",
    "\n",
    "$$ \\text{Output per worker:} \\quad y_t=\\frac{Y_t}{L_t} $$\n",
    "\n",
    "$$ y_t = k_t^\\alpha A_t^\\beta x_t^\\kappa \\quad \\quad (11)$$"
   ]
  },
  {
   "cell_type": "markdown",
   "metadata": {},
   "source": [
    "## Defining symbols"
   ]
  },
  {
   "cell_type": "markdown",
   "metadata": {},
   "source": [
    "First we define all necessary **symbols** so we can use sympy:"
   ]
  },
  {
   "cell_type": "code",
   "execution_count": 11,
   "metadata": {},
   "outputs": [],
   "source": [
    "z = sm.symbols('z_t')\n",
    "v = sm.symbols('v_t')\n",
    "beta = sm.symbols('beta')\n",
    "kappa = sm.symbols('kappa')\n",
    "zstar = sm.symbols('z^*')\n",
    "x = sm.symbols('x_t')\n",
    "X = sm.symbols('X')\n",
    "A0 = sm.symbols('A_0')\n",
    "L0 = sm.symbols('L_0')"
   ]
  },
  {
   "cell_type": "markdown",
   "metadata": {},
   "source": [
    "**Defining our Cobb-Douglas production function as a sympy function:**"
   ]
  },
  {
   "cell_type": "code",
   "execution_count": 25,
   "metadata": {},
   "outputs": [],
   "source": [
    "Cobb_Douglas = K**alpha*(A*L)**beta*X*kappa"
   ]
  },
  {
   "cell_type": "markdown",
   "metadata": {},
   "source": [
    "## Finding FOC:"
   ]
  },
  {
   "cell_type": "code",
   "execution_count": 26,
   "metadata": {},
   "outputs": [
    {
     "data": {
      "image/png": "[encoded data removed]",
      "text/latex": [
       "$$r_{t} = K_{t}^{\\alpha - 1} X \\alpha \\kappa \\left(A L_{t}\\right)^{\\beta}$$"
      ],
      "text/plain": [
       "       α - 1             β\n",
       "rₜ = Kₜ     ⋅X⋅α⋅κ⋅(A⋅Lₜ) "
      ]
     },
     "execution_count": 26,
     "metadata": {},
     "output_type": "execute_result"
    }
   ],
   "source": [
    "r_foc_land = sm.simplify(sm.diff(Cobb_Douglas,K))\n",
    "sm.Eq(r, r_foc_land)"
   ]
  },
  {
   "cell_type": "code",
   "execution_count": 27,
   "metadata": {},
   "outputs": [
    {
     "data": {
      "image/png": "[encoded data removed]",
      "text/latex": [
       "$$w_{t} = \\frac{K_{t}^{\\alpha} X \\beta \\kappa \\left(A L_{t}\\right)^{\\beta}}{L_{t}}$$"
      ],
      "text/plain": [
       "       α             β\n",
       "     Kₜ ⋅X⋅β⋅κ⋅(A⋅Lₜ) \n",
       "wₜ = ─────────────────\n",
       "             Lₜ       "
      ]
     },
     "execution_count": 27,
     "metadata": {},
     "output_type": "execute_result"
    }
   ],
   "source": [
    "w_foc_land = sm.simplify(sm.diff(Cobb_Douglas,L))\n",
    "sm.Eq(w, w_foc_land)"
   ]
  },
  {
   "cell_type": "code",
   "execution_count": 28,
   "metadata": {},
   "outputs": [
    {
     "data": {
      "image/png": "[encoded data removed]",
      "text/latex": [
       "$$v_{t} = K_{t}^{\\alpha} \\kappa \\left(A L_{t}\\right)^{\\beta}$$"
      ],
      "text/plain": [
       "       α         β\n",
       "vₜ = Kₜ ⋅κ⋅(A⋅Lₜ) "
      ]
     },
     "execution_count": 28,
     "metadata": {},
     "output_type": "execute_result"
    }
   ],
   "source": [
    "v_foc_land = sm.simplify(sm.diff(Cobb_Douglas,X))\n",
    "sm.Eq(v, v_foc_land)"
   ]
  },
  {
   "cell_type": "markdown",
   "metadata": {},
   "source": [
    "# Steady state"
   ]
  },
  {
   "cell_type": "markdown",
   "metadata": {},
   "source": [
    "We are working with the transition equation for the capital-output ratio (z)\n",
    "\n",
    "$$ z_{t+1} = \\left(\\frac{1}{(1+n)(1+g)}\\right)^\\beta [(s+(1-\\delta)z_t)]^{1-\\alpha} z_t^\\alpha $$\n",
    "\n",
    "Solving for z to find z* where we use that in steady state $z_{t+1} = z_t = z^*$"
   ]
  },
  {
   "cell_type": "code",
   "execution_count": 29,
   "metadata": {},
   "outputs": [
    {
     "data": {
      "image/png": "[encoded data removed]",
      "text/latex": [
       "$$z^{*} = \\frac{s \\left(\\frac{1}{g n + g + n + 1.0}\\right)^{2 \\beta}}{\\delta \\left(\\frac{1}{g n + g + n + 1.0}\\right)^{2.0 \\beta} - \\left(\\frac{1}{g n + g + n + 1.0}\\right)^{2.0 \\beta} + 1.0}$$"
      ],
      "text/plain": [
       "                                              2⋅β                 \n",
       "                           ⎛        1        ⎞                    \n",
       "                         s⋅⎜─────────────────⎟                    \n",
       "                           ⎝g⋅n + g + n + 1.0⎠                    \n",
       "z__* = ───────────────────────────────────────────────────────────\n",
       "                            2.0⋅β                      2.0⋅β      \n",
       "         ⎛        1        ⎞        ⎛        1        ⎞           \n",
       "       δ⋅⎜─────────────────⎟      - ⎜─────────────────⎟      + 1.0\n",
       "         ⎝g⋅n + g + n + 1.0⎠        ⎝g⋅n + g + n + 1.0⎠           "
      ]
     },
     "execution_count": 29,
     "metadata": {},
     "output_type": "execute_result"
    }
   ],
   "source": [
    "# Solving the z equation using Sympy only works for certain values of alpha.\n",
    "# We choose alpha to be 0.5. Setting alpha to 0.5 is perhaps too high, \n",
    "# as imperical studies using a Solow model with land suggests that alpha is closer to 0.2,\n",
    "# but we only made the calculations work with 0.5\n",
    "alpha = 0.5\n",
    "\n",
    "# Calculating the capital-ouput ratio (z) for the chosen value of alpha\n",
    "z_eq = sm.Eq(zstar, (1/((1+n)*(1+g)))**beta * (s+(1-delta)*zstar)**(1-alpha)*zstar**alpha)\n",
    "z_solve = sm.simplify(sm.solve(z_eq, zstar)[1])\n",
    "zfinal = sm.Eq(zstar, z_solve)\n",
    "zfinal"
   ]
  },
  {
   "cell_type": "markdown",
   "metadata": {},
   "source": [
    "$z^*$ can also be reduced to the following for a given $\\alpha$ value\n",
    "\n",
    "$$ z^* = \\frac{s}{[(1+n)(1+g)]^{\\frac{\\beta}{1-\\alpha}}-(1-\\delta)} $$"
   ]
  },
  {
   "cell_type": "markdown",
   "metadata": {},
   "source": [
    "We create a function that gives us steady state value of $z^*$"
   ]
  },
  {
   "cell_type": "code",
   "execution_count": 30,
   "metadata": {},
   "outputs": [],
   "source": [
    "ss_z = sm.lambdify((beta, delta, n, g, s), z_solve)\n",
    "def steady_state_z(beta, delta, n, g, s):\n",
    "    \n",
    "    \"\"\"Returns steady state values for capital-output ratio (z)\n",
    "    Args:\n",
    "    alpha (float): Capital income share\n",
    "    beta  (float): Labor income share\n",
    "    kappa (float): Land income share\n",
    "    delta (float): Capital depreciation rate\n",
    "    n (float): Labor force growth rate\n",
    "    g (float): Technological growth rate\n",
    "    s (float): Savings rate\n",
    "    A0 (float): Initital techonological level\n",
    "    X (float): Land (square kilometers)\n",
    "    L0 (float): Inital labor force \n",
    "    \n",
    "    Returns:\n",
    "    Steady state values for z\"\"\"\n",
    "    \n",
    "    ssz = ss_z(beta, delta, n, g, s)\n",
    "    \n",
    "    return ssz"
   ]
  },
  {
   "cell_type": "code",
   "execution_count": 31,
   "metadata": {},
   "outputs": [
    {
     "name": "stdout",
     "output_type": "stream",
     "text": [
      "Steady state for z is 4.84\n"
     ]
    }
   ],
   "source": [
    "ssz_value = steady_state_z(0.2,0.05,0.01,0.02,0.3)\n",
    "print('Steady state for z is ' + str(round(ssz_value,2)))"
   ]
  },
  {
   "cell_type": "markdown",
   "metadata": {},
   "source": [
    "We are finding $y^*$ by using (11):\n",
    "\n",
    "$$ y_t = k_t^\\alpha A_t^\\beta x_t^\\kappa $$\n",
    "\n",
    "We devide by $y_t^\\alpha$ and find:\n",
    "\n",
    "$$ y_t^{1-\\alpha} = z_t^\\alpha A_t^\\beta x_t^\\kappa $$\n",
    "\n",
    "Isolating $y_t$ and inserting $z^*$ gives us $y_t^*$:\n",
    "\n",
    "$$ y_t^* = (z^*)^{\\frac{\\alpha}{\\beta+\\kappa}} A_t^{\\frac{\\beta}{\\beta+\\kappa}} x_t^{\\frac{\\kappa}{\\beta+\\kappa}} $$"
   ]
  },
  {
   "cell_type": "markdown",
   "metadata": {},
   "source": [
    "Deriving $y^*$ by using SymPy where we still use the alpha set to 0.5"
   ]
  },
  {
   "cell_type": "code",
   "execution_count": 18,
   "metadata": {},
   "outputs": [
    {
     "data": {
      "image/png": "[encoded data removed]",
      "text/latex": [
       "$$\\left [ A^{2 \\beta} x_{t}^{2 \\kappa} z^{*}\\right ]$$"
      ],
      "text/plain": [
       "⎡ 2⋅β   2⋅κ     ⎤\n",
       "⎣A   ⋅xₜ   ⋅z__*⎦"
      ]
     },
     "execution_count": 18,
     "metadata": {},
     "output_type": "execute_result"
    }
   ],
   "source": [
    "y_eq = sm.Eq(ystar**(1-alpha), zstar**alpha*A**beta*x**kappa)\n",
    "y_solve = sm.simplify(sm.solve(y_eq, ystar))\n",
    "y_solve"
   ]
  },
  {
   "cell_type": "markdown",
   "metadata": {},
   "source": [
    "We create a function to find the steady state of $y_t^*$ where we allow the user to choose both X and $L_t$"
   ]
  },
  {
   "cell_type": "code",
   "execution_count": 21,
   "metadata": {},
   "outputs": [],
   "source": [
    "ss_y = sm.lambdify((A, beta, kappa, x, zstar), y_solve)\n",
    "def steady_state_y(A, beta, kappa, X, L):\n",
    "    \n",
    "    \"\"\"Returns steady state values for capital-output ratio (z) and output (y)\n",
    "    Args:\n",
    "    beta  (float): Labor income share\n",
    "    kappa (float): Land income share\n",
    "    X (float): Land (square kilometers)\n",
    "    A (float): Techonological level\n",
    "    L (float): Labor force \n",
    "    \n",
    "    Returns:\n",
    "    Steady state values for z and y\"\"\"\n",
    "    \n",
    "    ssy = ss_y(A, beta, kappa, X/L, ssz_value)\n",
    "    \n",
    "    return ssy"
   ]
  },
  {
   "cell_type": "code",
   "execution_count": 22,
   "metadata": {
    "scrolled": true
   },
   "outputs": [
    {
     "name": "stdout",
     "output_type": "stream",
     "text": [
      "Steady state for y is 0.9\n"
     ]
    }
   ],
   "source": [
    "ssy_value = steady_state_y(1,0.6,0.2,43094,2917000)[0] # Here we use the Danish numbers of land and labor force\n",
    "print('Steady state for y is ' + str(round(ssy_value,2)))"
   ]
  },
  {
   "cell_type": "markdown",
   "metadata": {},
   "source": [
    "# Numerical optimization"
   ]
  },
  {
   "cell_type": "markdown",
   "metadata": {},
   "source": [
    "We are deriving the equation for the change in capital per effective worker, and using this to find the steady state level of capital.<br>\n",
    "We start by dividing (7) by $A_tL_t$ which gives us: $$\\tilde{y}_t = \\tilde{k}_t^\\alpha \\tilde{x}^\\kappa$$ <br>\n",
    "Then we divide (8) by $A_{t+1} L_{t+1}$ which gives us: $$\\tilde{k}_{t+1} = \\frac{1}{(1 + n)(1 + g)}(s\\tilde{y}_t + (1 - \\delta)\\tilde{k}_t)$$ <br>\n",
    "Inserting $\\tilde{y}_t$ and ignoring $\\tilde{x}^\\kappa$ as it is just a scalar:\n",
    "$$\\tilde{k}_{t+1} = \\frac{1}{(1 + n)(1 + g)}(s\\tilde{k}_t^\\alpha + (1 - \\delta)\\tilde{k}_t)$$ <br>\n",
    "Finally we subtract $\\tilde{k}_t$ to get an expression of the change in the capital stock:\n",
    "$$\\tilde{k}_{t+1} - \\tilde{k}_t= \\frac{1}{(1 + n)(1 + g)}(s\\tilde{k}_t^\\alpha - (n + g + \\delta + ng)\\tilde{k}_t) \\quad \\quad (12)$$ <br>\n",
    "In steady state this change will be 0. So, we use (12) to find the value of $\\tilde{k}_t$ where the change in capital is 0 as this will be the steady state level of capital."
   ]
  },
  {
   "cell_type": "markdown",
   "metadata": {},
   "source": [
    "**Defining parameter values used for optimization:**"
   ]
  },
  {
   "cell_type": "code",
   "execution_count": 73,
   "metadata": {
    "scrolled": true
   },
   "outputs": [],
   "source": [
    "g = 0.02\n",
    "alpha = 0.5\n",
    "delta = 0.05\n",
    "n = 0.01\n",
    "s = 0.3"
   ]
  },
  {
   "cell_type": "markdown",
   "metadata": {},
   "source": [
    "**Defining (12) which we will use to find the steady state level of capital:**"
   ]
  },
  {
   "cell_type": "code",
   "execution_count": 83,
   "metadata": {},
   "outputs": [],
   "source": [
    "f = lambda k: 1/((1 + n)*(1 + g)) * (s*k**alpha - (n + g + delta + n*g)*k)"
   ]
  },
  {
   "cell_type": "markdown",
   "metadata": {},
   "source": [
    "**Plotting the change in k as a function of k:**"
   ]
  },
  {
   "cell_type": "code",
   "execution_count": 84,
   "metadata": {},
   "outputs": [
    {
     "data": {
      "image/png": "[encoded data removed]",
      "text/plain": [
       "<Figure size 432x288 with 1 Axes>"
      ]
     },
     "metadata": {
      "needs_background": "light"
     },
     "output_type": "display_data"
    }
   ],
   "source": [
    "# creating a vector with different values of k\n",
    "k_vec = np.linspace(0,15,100)\n",
    "\n",
    "# calculating the change in k for different values of k\n",
    "k_change_vec = np.zeros(100)\n",
    "for i,k in enumerate(k_vec):\n",
    "    k_change_vec[i] = f(k)\n",
    "\n",
    "# plotting the change in k as a function of k and marking the steady state level of capital\n",
    "fig = plt.figure()\n",
    "ax = fig.add_subplot(1,1,1)\n",
    "ax.plot(k_vec,k_change_vec)\n",
    "ax.plot(14, 0, marker='o')\n",
    "ax.grid()\n",
    "ax.set_xlabel(r'$\\tilde{k}_t$', fontsize = 15)\n",
    "ax.set_ylabel(r'change in $\\tilde{k}_t$', fontsize = 15)\n",
    "ax.set_title(r'Change in $\\tilde{k}_t$ as a function of $\\tilde{k}_t$', fontsize = 15);"
   ]
  },
  {
   "cell_type": "markdown",
   "metadata": {},
   "source": [
    "**Defining a function using the bisection method:** <br>\n",
    "**Algorithm:** `bisection()`\n",
    "\n",
    "1. Set $a_0 = a$ and $b_0 = b$.\n",
    "2. Compute $f(m_0)$ where $m_0 = (a_0 + b_0)/2$ is the midpoint.\n",
    "3. Determine the next sub-interval $[a_1,b_1]$:\n",
    "  * If $f(a_0)f(m_0) < 0$ (different signs) then $a_1 = a_0$ and $b_1 = m_0$ (i.e. focus on the range $[a_0,m_0]$).\n",
    "  * If $f(m_0)f(b_0) < 0$ (different signs) then $a_1 = m_0$ and $b_1 = b_0$ (i.e. focus on the range $[m_0,b_0]$).\n",
    "4. Repeat step 2 and step 3 until $f(m_n) < \\epsilon$."
   ]
  },
  {
   "cell_type": "markdown",
   "metadata": {},
   "source": [
    "**The bisection function comes from the notebook from lecture 9:**"
   ]
  },
  {
   "cell_type": "code",
   "execution_count": 85,
   "metadata": {},
   "outputs": [],
   "source": [
    "def bisection(f,a,b,max_iter=50,tol=1e-6,full_info=True):\n",
    "    \"\"\" bisection\n",
    "    \n",
    "    Solve equation f(x) = 0 for a <= x <= b.\n",
    "    \n",
    "    Args:\n",
    "    \n",
    "        f (function): function\n",
    "        a (float): left bound\n",
    "        b (float): right bound\n",
    "        tol (float): tolerance on solution\n",
    "        \n",
    "    Returns:\n",
    "    \n",
    "        m (float): root\n",
    "    \n",
    "    \"\"\"\n",
    "    \n",
    "    # test inputs\n",
    "    if f(a)*f(b) >= 0:\n",
    "        print(\"bisection method fails.\")\n",
    "        return None\n",
    "    \n",
    "    # step 1: initialize\n",
    "    _a = a\n",
    "    _b = b\n",
    "    a = np.zeros(max_iter)\n",
    "    b = np.zeros(max_iter)\n",
    "    m = np.zeros(max_iter)\n",
    "    fm = np.zeros(max_iter)\n",
    "    a[0] = _a\n",
    "    b[0] = _b\n",
    "    \n",
    "    # step 2-4: main\n",
    "    i = 0\n",
    "    while i < max_iter:\n",
    "        \n",
    "        # step 2: midpoint and associated value\n",
    "        m[i] = (a[i]+b[i])/2\n",
    "        fm[i] = f(m[i])\n",
    "        \n",
    "        # step 3: determine sub-interval\n",
    "        if abs(fm[i]) < tol:\n",
    "            break        \n",
    "        elif f(a[i])*fm[i] < 0:\n",
    "            a[i+1] = a[i]\n",
    "            b[i+1] = m[i]\n",
    "        elif f(b[i])*fm[i] < 0:\n",
    "            a[i+1] = m[i]\n",
    "            b[i+1] = b[i]\n",
    "        else:\n",
    "            print(\"bisection method fails.\")\n",
    "            return None\n",
    "        \n",
    "        i += 1\n",
    "        \n",
    "    if full_info:\n",
    "        return m,i,a,b,fm\n",
    "    else:\n",
    "        return m[i],i"
   ]
  },
  {
   "cell_type": "markdown",
   "metadata": {},
   "source": [
    "**Calculating steady state using the bisection function:**"
   ]
  },
  {
   "cell_type": "code",
   "execution_count": 102,
   "metadata": {},
   "outputs": [
    {
     "name": "stdout",
     "output_type": "stream",
     "text": [
      "Iteration nr. 16: steady state level of capital per effective worker is = 13.99\n"
     ]
    }
   ],
   "source": [
    "m,i,a,b,fm = bisection(f,1,15)\n",
    "ssk = m[i]\n",
    "print(f'Iteration nr. {i}: steady state level of capital per effective worker is = {ssk:.2f}')"
   ]
  }
 ],
 "metadata": {
  "kernelspec": {
   "display_name": "Python 3",
   "language": "python",
   "name": "python3"
  },
  "language_info": {
   "codemirror_mode": {
    "name": "ipython",
    "version": 3
   },
   "file_extension": ".py",
   "mimetype": "text/x-python",
   "name": "python",
   "nbconvert_exporter": "python",
   "pygments_lexer": "ipython3",
   "version": "3.7.1"
  }
 },
 "nbformat": 4,
 "nbformat_minor": 2
}
